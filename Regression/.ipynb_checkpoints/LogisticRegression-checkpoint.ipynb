{
 "cells": [
  {
   "cell_type": "markdown",
   "id": "5161e985-c306-4167-bf58-680b1c033f28",
   "metadata": {},
   "source": [
    "# Logistic Regression\n",
    "This practical example showcasing step-by-step description of logistic regression"
   ]
  },
  {
   "cell_type": "markdown",
   "id": "de41c74f-f46d-4523-8772-c7ab5dac66e5",
   "metadata": {},
   "source": [
    "#### 1. Import the required libraries.\n",
    "Import necessary libraries for data manipulation, visualization, and linear regression."
   ]
  },
  {
   "cell_type": "code",
   "execution_count": 2,
   "id": "e672b6ce-199e-4bba-9c5d-686540f0dafb",
   "metadata": {},
   "outputs": [],
   "source": [
    "import pandas as pd\n",
    "import matplotlib.pyplot as plt\n",
    "from sklearn.model_selection import train_test_split\n",
    "from sklearn.linear_model import LogisticRegression\n",
    "from sklearn.metrics import r2_score, mean_squared_error"
   ]
  },
  {
   "cell_type": "markdown",
   "id": "a6b791a4-68ed-47a4-b48a-3246274867d1",
   "metadata": {},
   "source": [
    "#### 2. Load data from csv to pnadas dataset. "
   ]
  },
  {
   "cell_type": "markdown",
   "id": "4eec3f87-d547-4799-832a-f6882e01176c",
   "metadata": {},
   "source": [
    "#### 3. Visualize Data: \n",
    "Plot a scatter plot to visualize the relationship between the variables."
   ]
  },
  {
   "cell_type": "markdown",
   "id": "01b4af90-b85e-441a-94bd-d8f209db4287",
   "metadata": {},
   "source": [
    "#### 4. Split Data\n",
    "Split the dataset into training and testing sets."
   ]
  },
  {
   "cell_type": "markdown",
   "id": "94d0a1e6-7c2f-4669-b33f-303247949248",
   "metadata": {},
   "source": [
    "#### 5. Train the Linear Regression Model\n",
    "Create and train a linear regression model using the training data."
   ]
  },
  {
   "cell_type": "markdown",
   "id": "403d0c73-8c2b-4e66-836c-13429e4785c8",
   "metadata": {},
   "source": [
    "#### 6. Make Predictions\n",
    "Use the trained model to predict salaries on the test set."
   ]
  },
  {
   "cell_type": "markdown",
   "id": "2cdc65ce-6eda-48e5-b217-f92fdd8bd5a1",
   "metadata": {},
   "source": [
    "#### 7. Evaluate the Model\n",
    "Calculate Mean Squared Error and R-squared to evaluate model performance."
   ]
  },
  {
   "cell_type": "markdown",
   "id": "834dacdc-5bc2-47e9-be0a-e86533ed6746",
   "metadata": {},
   "source": [
    "#### 8. Visualize Results\n",
    "Plot the regression line along with the original data points to visualize the fit."
   ]
  }
 ],
 "metadata": {
  "kernelspec": {
   "display_name": "Python 3 (ipykernel)",
   "language": "python",
   "name": "python3"
  },
  "language_info": {
   "codemirror_mode": {
    "name": "ipython",
    "version": 3
   },
   "file_extension": ".py",
   "mimetype": "text/x-python",
   "name": "python",
   "nbconvert_exporter": "python",
   "pygments_lexer": "ipython3",
   "version": "3.12.0"
  }
 },
 "nbformat": 4,
 "nbformat_minor": 5
}
